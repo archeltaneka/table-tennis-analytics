{
 "cells": [
  {
   "cell_type": "code",
   "execution_count": 1,
   "metadata": {},
   "outputs": [],
   "source": [
    "import numpy as np\n",
    "import cv2\n",
    "import matplotlib.pyplot as plt\n",
    "\n",
    "%matplotlib inline"
   ]
  },
  {
   "cell_type": "code",
   "execution_count": 2,
   "metadata": {},
   "outputs": [],
   "source": [
    "def init_court_capture(file_path, scaling_factor):\n",
    "    \n",
    "    cap = cv2.VideoCapture(file_path)\n",
    "    ret, frame = cap.read()\n",
    "    \n",
    "    width = int(frame.shape[1] * scaling_factor)\n",
    "    length = int(frame.shape[0] * scaling_factor)\n",
    "    img = cv2.resize(frame, (width, length), interpolation=cv2.INTER_AREA)\n",
    "    \n",
    "    return img"
   ]
  },
  {
   "cell_type": "code",
   "execution_count": 3,
   "metadata": {},
   "outputs": [],
   "source": [
    "def left_click_event(event, x, y, flags, param):\n",
    "    \n",
    "    if event == cv2.EVENT_LBUTTONDOWN:\n",
    "        cv2.circle(img_copy, center=(x,y), radius=3, color=(0,255,0), thickness=-1)\n",
    "        src_pts.append((x,y))\n",
    "        \n",
    "        if len(src_pts) == 1:\n",
    "            cv2.imshow('court', img_copy)\n",
    "        \n",
    "        if len(src_pts) >= 2:\n",
    "            cv2.line(img_copy, pt1=src_pts[-1], pt2=src_pts[-2], color=(0,255,0), thickness=2)\n",
    "            cv2.imshow('court', img_copy)\n",
    "            \n",
    "        if len(src_pts) == 4:\n",
    "            court = img_copy.copy()\n",
    "            cv2.polylines(court, [np.array(src_pts)], isClosed=True, color=(0,255,255), thickness=2)\n",
    "            \n",
    "            cv2.imshow('court', court)"
   ]
  },
  {
   "cell_type": "code",
   "execution_count": 5,
   "metadata": {},
   "outputs": [
    {
     "name": "stdout",
     "output_type": "stream",
     "text": [
      "[]\n"
     ]
    }
   ],
   "source": [
    "PATH = './data/downverse.com - Ma Long vs Fan Zhendong  Bank of Communications 2020 ITTF Finals (Final) trimmed.mp4'\n",
    "img = init_court_capture(PATH, 1)\n",
    "\n",
    "img_copy = img.copy()\n",
    "src_pts = []\n",
    "\n",
    "cv2.imshow('court', img_copy)\n",
    "cv2.setMouseCallback('court', left_click_event)\n",
    "\n",
    "cv2.waitKey(0)\n",
    "cv2.destroyAllWindows()\n",
    "print(src_pts)"
   ]
  },
  {
   "cell_type": "code",
   "execution_count": 11,
   "metadata": {},
   "outputs": [
    {
     "data": {
      "text/plain": [
       "True"
      ]
     },
     "execution_count": 11,
     "metadata": {},
     "output_type": "execute_result"
    }
   ],
   "source": [
    "cv2.imwrite('./data/table_tennis_court.png', court)"
   ]
  },
  {
   "cell_type": "code",
   "execution_count": null,
   "metadata": {},
   "outputs": [],
   "source": []
  }
 ],
 "metadata": {
  "kernelspec": {
   "display_name": "Python 3",
   "language": "python",
   "name": "python3"
  },
  "language_info": {
   "codemirror_mode": {
    "name": "ipython",
    "version": 3
   },
   "file_extension": ".py",
   "mimetype": "text/x-python",
   "name": "python",
   "nbconvert_exporter": "python",
   "pygments_lexer": "ipython3",
   "version": "3.6.12"
  }
 },
 "nbformat": 4,
 "nbformat_minor": 4
}
